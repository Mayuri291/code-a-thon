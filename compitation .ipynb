{
 "cells": [
  {
   "cell_type": "code",
   "execution_count": 1,
   "metadata": {},
   "outputs": [
    {
     "name": "stdout",
     "output_type": "stream",
     "text": [
      "Requirement already satisfied: PyPDF2 in c:\\users\\hp\\anaconda3\\lib\\site-packages (1.26.0)\n"
     ]
    }
   ],
   "source": [
    "!pip install PyPDF2"
   ]
  },
  {
   "cell_type": "code",
   "execution_count": 2,
   "metadata": {},
   "outputs": [],
   "source": [
    "import PyPDF2  as pdf"
   ]
  },
  {
   "cell_type": "code",
   "execution_count": 8,
   "metadata": {},
   "outputs": [],
   "source": [
    "file=open('Alien-Pets.pdf','rb')#here rb means read binary"
   ]
  },
  {
   "cell_type": "code",
   "execution_count": 9,
   "metadata": {},
   "outputs": [
    {
     "name": "stdout",
     "output_type": "stream",
     "text": [
      "<_io.BufferedReader name='Alien-Pets.pdf'>\n"
     ]
    }
   ],
   "source": [
    "print(file)"
   ]
  },
  {
   "cell_type": "code",
   "execution_count": 10,
   "metadata": {},
   "outputs": [
    {
     "name": "stderr",
     "output_type": "stream",
     "text": [
      "PdfReadWarning: Xref table not zero-indexed. ID numbers for objects will be corrected. [pdf.py:1736]\n"
     ]
    }
   ],
   "source": [
    "pdf_reader= pdf.PdfFileReader(file)#INTHIS WE PASSED FILE HNDLER NAME AS FILE"
   ]
  },
  {
   "cell_type": "code",
   "execution_count": 11,
   "metadata": {},
   "outputs": [
    {
     "name": "stdout",
     "output_type": "stream",
     "text": [
      "<PyPDF2.pdf.PdfFileReader object at 0x000000C44C02FA08>\n"
     ]
    }
   ],
   "source": [
    "print(pdf_reader)"
   ]
  },
  {
   "cell_type": "code",
   "execution_count": 12,
   "metadata": {},
   "outputs": [
    {
     "name": "stdout",
     "output_type": "stream",
     "text": [
      "Help on PdfFileReader in module PyPDF2.pdf object:\n",
      "\n",
      "class PdfFileReader(builtins.object)\n",
      " |  PdfFileReader(stream, strict=True, warndest=None, overwriteWarnings=True)\n",
      " |  \n",
      " |  Initializes a PdfFileReader object.  This operation can take some time, as\n",
      " |  the PDF stream's cross-reference tables are read into memory.\n",
      " |  \n",
      " |  :param stream: A File object or an object that supports the standard read\n",
      " |      and seek methods similar to a File object. Could also be a\n",
      " |      string representing a path to a PDF file.\n",
      " |  :param bool strict: Determines whether user should be warned of all\n",
      " |      problems and also causes some correctable problems to be fatal.\n",
      " |      Defaults to ``True``.\n",
      " |  :param warndest: Destination for logging warnings (defaults to\n",
      " |      ``sys.stderr``).\n",
      " |  :param bool overwriteWarnings: Determines whether to override Python's\n",
      " |      ``warnings.py`` module with a custom implementation (defaults to\n",
      " |      ``True``).\n",
      " |  \n",
      " |  Methods defined here:\n",
      " |  \n",
      " |  __init__(self, stream, strict=True, warndest=None, overwriteWarnings=True)\n",
      " |      Initialize self.  See help(type(self)) for accurate signature.\n",
      " |  \n",
      " |  cacheGetIndirectObject(self, generation, idnum)\n",
      " |  \n",
      " |  cacheIndirectObject(self, generation, idnum, obj)\n",
      " |  \n",
      " |  decrypt(self, password)\n",
      " |      When using an encrypted / secured PDF file with the PDF Standard\n",
      " |      encryption handler, this function will allow the file to be decrypted.\n",
      " |      It checks the given password against the document's user password and\n",
      " |      owner password, and then stores the resulting decryption key if either\n",
      " |      password is correct.\n",
      " |      \n",
      " |      It does not matter which password was matched.  Both passwords provide\n",
      " |      the correct decryption key that will allow the document to be used with\n",
      " |      this library.\n",
      " |      \n",
      " |      :param str password: The password to match.\n",
      " |      :return: ``0`` if the password failed, ``1`` if the password matched the user\n",
      " |          password, and ``2`` if the password matched the owner password.\n",
      " |      :rtype: int\n",
      " |      :raises NotImplementedError: if document uses an unsupported encryption\n",
      " |          method.\n",
      " |  \n",
      " |  getDestinationPageNumber(self, destination)\n",
      " |      Retrieve page number of a given Destination object\n",
      " |      \n",
      " |      :param Destination destination: The destination to get page number.\n",
      " |           Should be an instance of\n",
      " |           :class:`Destination<PyPDF2.pdf.Destination>`\n",
      " |      :return: the page number or -1 if page not found\n",
      " |      :rtype: int\n",
      " |  \n",
      " |  getDocumentInfo(self)\n",
      " |      Retrieves the PDF file's document information dictionary, if it exists.\n",
      " |      Note that some PDF files use metadata streams instead of docinfo\n",
      " |      dictionaries, and these metadata streams will not be accessed by this\n",
      " |      function.\n",
      " |      \n",
      " |      :return: the document information of this PDF file\n",
      " |      :rtype: :class:`DocumentInformation<pdf.DocumentInformation>` or ``None`` if none exists.\n",
      " |  \n",
      " |  getFields(self, tree=None, retval=None, fileobj=None)\n",
      " |      Extracts field data if this PDF contains interactive form fields.\n",
      " |      The *tree* and *retval* parameters are for recursive use.\n",
      " |      \n",
      " |      :param fileobj: A file object (usually a text file) to write\n",
      " |          a report to on all interactive form fields found.\n",
      " |      :return: A dictionary where each key is a field name, and each\n",
      " |          value is a :class:`Field<PyPDF2.generic.Field>` object. By\n",
      " |          default, the mapping name is used for keys.\n",
      " |      :rtype: dict, or ``None`` if form data could not be located.\n",
      " |  \n",
      " |  getFormTextFields(self)\n",
      " |      Retrieves form fields from the document with textual data (inputs, dropdowns)\n",
      " |  \n",
      " |  getIsEncrypted(self)\n",
      " |  \n",
      " |  getNamedDestinations(self, tree=None, retval=None)\n",
      " |      Retrieves the named destinations present in the document.\n",
      " |      \n",
      " |      :return: a dictionary which maps names to\n",
      " |          :class:`Destinations<PyPDF2.generic.Destination>`.\n",
      " |      :rtype: dict\n",
      " |  \n",
      " |  getNumPages(self)\n",
      " |      Calculates the number of pages in this PDF file.\n",
      " |      \n",
      " |      :return: number of pages\n",
      " |      :rtype: int\n",
      " |      :raises PdfReadError: if file is encrypted and restrictions prevent\n",
      " |          this action.\n",
      " |  \n",
      " |  getObject(self, indirectReference)\n",
      " |  \n",
      " |  getOutlines(self, node=None, outlines=None)\n",
      " |      Retrieves the document outline present in the document.\n",
      " |      \n",
      " |      :return: a nested list of :class:`Destinations<PyPDF2.generic.Destination>`.\n",
      " |  \n",
      " |  getPage(self, pageNumber)\n",
      " |      Retrieves a page by number from this PDF file.\n",
      " |      \n",
      " |      :param int pageNumber: The page number to retrieve\n",
      " |          (pages begin at zero)\n",
      " |      :return: a :class:`PageObject<pdf.PageObject>` instance.\n",
      " |      :rtype: :class:`PageObject<pdf.PageObject>`\n",
      " |  \n",
      " |  getPageLayout(self)\n",
      " |      Get the page layout.\n",
      " |      See :meth:`setPageLayout()<PdfFileWriter.setPageLayout>`\n",
      " |      for a description of valid layouts.\n",
      " |      \n",
      " |      :return: Page layout currently being used.\n",
      " |      :rtype: ``str``, ``None`` if not specified\n",
      " |  \n",
      " |  getPageMode(self)\n",
      " |      Get the page mode.\n",
      " |      See :meth:`setPageMode()<PdfFileWriter.setPageMode>`\n",
      " |      for a description of valid modes.\n",
      " |      \n",
      " |      :return: Page mode currently being used.\n",
      " |      :rtype: ``str``, ``None`` if not specified\n",
      " |  \n",
      " |  getPageNumber(self, page)\n",
      " |      Retrieve page number of a given PageObject\n",
      " |      \n",
      " |      :param PageObject page: The page to get page number. Should be\n",
      " |          an instance of :class:`PageObject<PyPDF2.pdf.PageObject>`\n",
      " |      :return: the page number or -1 if page not found\n",
      " |      :rtype: int\n",
      " |  \n",
      " |  getXmpMetadata(self)\n",
      " |      Retrieves XMP (Extensible Metadata Platform) data from the PDF document\n",
      " |      root.\n",
      " |      \n",
      " |      :return: a :class:`XmpInformation<xmp.XmpInformation>`\n",
      " |          instance that can be used to access XMP metadata from the document.\n",
      " |      :rtype: :class:`XmpInformation<xmp.XmpInformation>` or\n",
      " |          ``None`` if no metadata was found on the document root.\n",
      " |  \n",
      " |  read(self, stream)\n",
      " |  \n",
      " |  readNextEndLine(self, stream)\n",
      " |  \n",
      " |  readObjectHeader(self, stream)\n",
      " |  \n",
      " |  ----------------------------------------------------------------------\n",
      " |  Data descriptors defined here:\n",
      " |  \n",
      " |  __dict__\n",
      " |      dictionary for instance variables (if defined)\n",
      " |  \n",
      " |  __weakref__\n",
      " |      list of weak references to the object (if defined)\n",
      " |  \n",
      " |  documentInfo\n",
      " |  \n",
      " |  isEncrypted\n",
      " |  \n",
      " |  namedDestinations\n",
      " |  \n",
      " |  numPages\n",
      " |  \n",
      " |  outlines\n",
      " |  \n",
      " |  pageLayout\n",
      " |      Get the page layout.\n",
      " |      See :meth:`setPageLayout()<PdfFileWriter.setPageLayout>`\n",
      " |      for a description of valid layouts.\n",
      " |      \n",
      " |      :return: Page layout currently being used.\n",
      " |      :rtype: ``str``, ``None`` if not specified\n",
      " |  \n",
      " |  pageMode\n",
      " |      Get the page mode.\n",
      " |      See :meth:`setPageMode()<PdfFileWriter.setPageMode>`\n",
      " |      for a description of valid modes.\n",
      " |      \n",
      " |      :return: Page mode currently being used.\n",
      " |      :rtype: ``str``, ``None`` if not specified\n",
      " |  \n",
      " |  pages\n",
      " |  \n",
      " |  xmpMetadata\n",
      "\n"
     ]
    }
   ],
   "source": [
    "#fetch document information\n",
    "help(pdf_reader)"
   ]
  },
  {
   "cell_type": "code",
   "execution_count": 13,
   "metadata": {},
   "outputs": [
    {
     "data": {
      "text/plain": [
       "False"
      ]
     },
     "execution_count": 13,
     "metadata": {},
     "output_type": "execute_result"
    }
   ],
   "source": [
    "pdf_reader.getIsEncrypted()# TO CHECK IS DATA ENCRYPTED"
   ]
  },
  {
   "cell_type": "code",
   "execution_count": 26,
   "metadata": {},
   "outputs": [
    {
     "data": {
      "text/plain": [
       "179"
      ]
     },
     "execution_count": 26,
     "metadata": {},
     "output_type": "execute_result"
    }
   ],
   "source": [
    "# TO CHECK HOW MANY PAGES ARE THERE\n",
    "pdf_reader.getNumPages()"
   ]
  },
  {
   "cell_type": "code",
   "execution_count": 51,
   "metadata": {},
   "outputs": [
    {
     "name": "stdout",
     "output_type": "stream",
     "text": [
      "{'/Contents': IndirectObject(5, 0), '/CropBox': [0, 0, 612, 792], '/MediaBox': [0, 0, 612, 792], '/Parent': IndirectObject(1, 0), '/Resources': {'/XObject': {'/Image0': IndirectObject(6, 0)}}, '/Rotate': 0, '/Type': '/Page'}\n"
     ]
    }
   ],
   "source": [
    "# EXTRACTED INFORMATION ON PAGE NO 1\n",
    "page1=pdf_reader.getPage(0)# HERE (1) GIVEN THE INDEX VALUE 1 \n",
    "print(page1)"
   ]
  },
  {
   "cell_type": "code",
   "execution_count": 53,
   "metadata": {},
   "outputs": [
    {
     "data": {
      "text/plain": [
       "''"
      ]
     },
     "execution_count": 53,
     "metadata": {},
     "output_type": "execute_result"
    }
   ],
   "source": [
    "# but above data is encrypted in binary form we have to call extractText ()\n",
    "page1.extractText()"
   ]
  },
  {
   "cell_type": "code",
   "execution_count": null,
   "metadata": {},
   "outputs": [],
   "source": [
    "# appened write"
   ]
  },
  {
   "cell_type": "code",
   "execution_count": 56,
   "metadata": {},
   "outputs": [],
   "source": [
    "pdf_writer=pdf.PdfFileWriter()\n",
    "pdf_writer.addPage(page1)\n"
   ]
  },
  {
   "cell_type": "code",
   "execution_count": 57,
   "metadata": {},
   "outputs": [],
   "source": [
    "output=open('pages.pdf','wb')\n",
    "pdf_writer.write(output)\n",
    "output.close() #we closed output file   # here we created text pdf file seprately         we cretaed first page named as pages.pdf "
   ]
  },
  {
   "cell_type": "code",
   "execution_count": 58,
   "metadata": {},
   "outputs": [],
   "source": [
    "# to clean data\n",
    "import re # here we import re package\n"
   ]
  },
  {
   "cell_type": "code",
   "execution_count": 72,
   "metadata": {},
   "outputs": [
    {
     "ename": "TypeError",
     "evalue": "expected string or bytes-like object",
     "output_type": "error",
     "traceback": [
      "\u001b[1;31m---------------------------------------------------------------------------\u001b[0m",
      "\u001b[1;31mTypeError\u001b[0m                                 Traceback (most recent call last)",
      "\u001b[1;32m<ipython-input-72-d21e7183cbd9>\u001b[0m in \u001b[0;36m<module>\u001b[1;34m\u001b[0m\n\u001b[0;32m      1\u001b[0m \u001b[1;31m# def9 new variable to store result\u001b[0m\u001b[1;33m\u001b[0m\u001b[1;33m\u001b[0m\u001b[1;33m\u001b[0m\u001b[0m\n\u001b[1;32m----> 2\u001b[1;33m \u001b[0mtext2\u001b[0m\u001b[1;33m=\u001b[0m\u001b[0mre\u001b[0m\u001b[1;33m.\u001b[0m\u001b[0msub\u001b[0m\u001b[1;33m(\u001b[0m\u001b[1;34m\"[^A-Za-z0-9]+\"\u001b[0m\u001b[1;33m,\u001b[0m\u001b[1;34m\" \"\u001b[0m\u001b[1;33m,\u001b[0m\u001b[0mfile\u001b[0m\u001b[1;33m)\u001b[0m\u001b[1;31m# here all chrector replaced by space #^ symbol shows beging of string\u001b[0m\u001b[1;33m\u001b[0m\u001b[1;33m\u001b[0m\u001b[0m\n\u001b[0m\u001b[0;32m      3\u001b[0m \u001b[0mprint\u001b[0m\u001b[1;33m(\u001b[0m\u001b[0mtext2\u001b[0m\u001b[1;33m)\u001b[0m\u001b[1;33m\u001b[0m\u001b[1;33m\u001b[0m\u001b[0m\n",
      "\u001b[1;32m~\\anaconda3\\lib\\re.py\u001b[0m in \u001b[0;36msub\u001b[1;34m(pattern, repl, string, count, flags)\u001b[0m\n\u001b[0;32m    190\u001b[0m     \u001b[0ma\u001b[0m \u001b[0mcallable\u001b[0m\u001b[1;33m,\u001b[0m \u001b[0mit\u001b[0m\u001b[0;31m'\u001b[0m\u001b[0ms\u001b[0m \u001b[0mpassed\u001b[0m \u001b[0mthe\u001b[0m \u001b[0mMatch\u001b[0m \u001b[0mobject\u001b[0m \u001b[1;32mand\u001b[0m \u001b[0mmust\u001b[0m \u001b[1;32mreturn\u001b[0m\u001b[1;33m\u001b[0m\u001b[1;33m\u001b[0m\u001b[0m\n\u001b[0;32m    191\u001b[0m     a replacement string to be used.\"\"\"\n\u001b[1;32m--> 192\u001b[1;33m     \u001b[1;32mreturn\u001b[0m \u001b[0m_compile\u001b[0m\u001b[1;33m(\u001b[0m\u001b[0mpattern\u001b[0m\u001b[1;33m,\u001b[0m \u001b[0mflags\u001b[0m\u001b[1;33m)\u001b[0m\u001b[1;33m.\u001b[0m\u001b[0msub\u001b[0m\u001b[1;33m(\u001b[0m\u001b[0mrepl\u001b[0m\u001b[1;33m,\u001b[0m \u001b[0mstring\u001b[0m\u001b[1;33m,\u001b[0m \u001b[0mcount\u001b[0m\u001b[1;33m)\u001b[0m\u001b[1;33m\u001b[0m\u001b[1;33m\u001b[0m\u001b[0m\n\u001b[0m\u001b[0;32m    193\u001b[0m \u001b[1;33m\u001b[0m\u001b[0m\n\u001b[0;32m    194\u001b[0m \u001b[1;32mdef\u001b[0m \u001b[0msubn\u001b[0m\u001b[1;33m(\u001b[0m\u001b[0mpattern\u001b[0m\u001b[1;33m,\u001b[0m \u001b[0mrepl\u001b[0m\u001b[1;33m,\u001b[0m \u001b[0mstring\u001b[0m\u001b[1;33m,\u001b[0m \u001b[0mcount\u001b[0m\u001b[1;33m=\u001b[0m\u001b[1;36m0\u001b[0m\u001b[1;33m,\u001b[0m \u001b[0mflags\u001b[0m\u001b[1;33m=\u001b[0m\u001b[1;36m0\u001b[0m\u001b[1;33m)\u001b[0m\u001b[1;33m:\u001b[0m\u001b[1;33m\u001b[0m\u001b[1;33m\u001b[0m\u001b[0m\n",
      "\u001b[1;31mTypeError\u001b[0m: expected string or bytes-like object"
     ]
    }
   ],
   "source": [
    "# def9 new variable to store result\n",
    "text2=re.sub(\"[^A-Za-z0-9]+\",\" \",file)# here all chrector replaced by space #^ symbol shows beging of string\n",
    "print(text2)"
   ]
  }
 ],
 "metadata": {
  "kernelspec": {
   "display_name": "Python 3",
   "language": "python",
   "name": "python3"
  },
  "language_info": {
   "codemirror_mode": {
    "name": "ipython",
    "version": 3
   },
   "file_extension": ".py",
   "mimetype": "text/x-python",
   "name": "python",
   "nbconvert_exporter": "python",
   "pygments_lexer": "ipython3",
   "version": "3.7.6"
  }
 },
 "nbformat": 4,
 "nbformat_minor": 4
}
